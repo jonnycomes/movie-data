{
 "cells": [
  {
   "cell_type": "markdown",
   "id": "480b86f7-9b0d-4c91-a2a1-28e3de386f9a",
   "metadata": {},
   "source": [
    "# Movie Recommender"
   ]
  },
  {
   "cell_type": "code",
   "execution_count": 1,
   "id": "49c3c42a-c68c-4546-add3-a5805d5375ef",
   "metadata": {},
   "outputs": [
    {
     "name": "stderr",
     "output_type": "stream",
     "text": [
      "/usr/local/lib/python3.9/site-packages/lightfm/_lightfm_fast.py:9: UserWarning: LightFM was compiled without OpenMP support. Only a single thread will be used.\n",
      "  warnings.warn(\n"
     ]
    }
   ],
   "source": [
    "import pandas as pd\n",
    "import numpy as np\n",
    "\n",
    "from scipy.sparse import coo_matrix\n",
    "from lightfm import LightFM\n",
    "from lightfm.data import Dataset\n",
    "\n",
    "from config.settings import DB_PATH\n",
    "import data_processing.load_sqlite as load_sql"
   ]
  },
  {
   "cell_type": "markdown",
   "id": "cd0452f4-7ad3-45ba-8a0a-f16bfacfb703",
   "metadata": {},
   "source": [
    "## Load and Prepare the Data using LightFM"
   ]
  },
  {
   "cell_type": "code",
   "execution_count": 2,
   "id": "dd5927b2-1456-4c4b-9215-bd7609a53335",
   "metadata": {},
   "outputs": [
    {
     "data": {
      "text/html": [
       "<div>\n",
       "<style scoped>\n",
       "    .dataframe tbody tr th:only-of-type {\n",
       "        vertical-align: middle;\n",
       "    }\n",
       "\n",
       "    .dataframe tbody tr th {\n",
       "        vertical-align: top;\n",
       "    }\n",
       "\n",
       "    .dataframe thead th {\n",
       "        text-align: right;\n",
       "    }\n",
       "</style>\n",
       "<table border=\"1\" class=\"dataframe\">\n",
       "  <thead>\n",
       "    <tr style=\"text-align: right;\">\n",
       "      <th></th>\n",
       "      <th>movie_id</th>\n",
       "      <th>user_id</th>\n",
       "      <th>rating</th>\n",
       "      <th>timestamp</th>\n",
       "    </tr>\n",
       "  </thead>\n",
       "  <tbody>\n",
       "    <tr>\n",
       "      <th>0</th>\n",
       "      <td>4584</td>\n",
       "      <td>1</td>\n",
       "      <td>4.0</td>\n",
       "      <td>944249077</td>\n",
       "    </tr>\n",
       "    <tr>\n",
       "      <th>1</th>\n",
       "      <td>451</td>\n",
       "      <td>1</td>\n",
       "      <td>1.0</td>\n",
       "      <td>944250228</td>\n",
       "    </tr>\n",
       "    <tr>\n",
       "      <th>2</th>\n",
       "      <td>902</td>\n",
       "      <td>1</td>\n",
       "      <td>2.0</td>\n",
       "      <td>943230976</td>\n",
       "    </tr>\n",
       "    <tr>\n",
       "      <th>3</th>\n",
       "      <td>37557</td>\n",
       "      <td>1</td>\n",
       "      <td>5.0</td>\n",
       "      <td>944249077</td>\n",
       "    </tr>\n",
       "    <tr>\n",
       "      <th>4</th>\n",
       "      <td>63</td>\n",
       "      <td>1</td>\n",
       "      <td>5.0</td>\n",
       "      <td>943228858</td>\n",
       "    </tr>\n",
       "  </tbody>\n",
       "</table>\n",
       "</div>"
      ],
      "text/plain": [
       "   movie_id  user_id  rating  timestamp\n",
       "0      4584        1     4.0  944249077\n",
       "1       451        1     1.0  944250228\n",
       "2       902        1     2.0  943230976\n",
       "3     37557        1     5.0  944249077\n",
       "4        63        1     5.0  943228858"
      ]
     },
     "execution_count": 2,
     "metadata": {},
     "output_type": "execute_result"
    }
   ],
   "source": [
    "df = load_sql.fetch_user_movie_ratings(tmdb_only=True)\n",
    "df.head()"
   ]
  },
  {
   "cell_type": "code",
   "execution_count": 3,
   "id": "ccec7bcd-2d6f-4e92-823c-77e0af40e0e7",
   "metadata": {},
   "outputs": [],
   "source": [
    "# Convert ratings to implicit feedback (1 = liked, 0 = not liked)\n",
    "df['rating'] = (df['rating'] >= 4).astype(int)\n",
    "\n",
    "# Create dataset object\n",
    "dataset = Dataset()\n",
    "dataset.fit(users=df['user_id'].unique(), items=df['movie_id'].unique())\n",
    "\n",
    "# Build interactions matrix\n",
    "(interactions, weights) = dataset.build_interactions(zip(df['user_id'], df['movie_id'], df['rating']))"
   ]
  },
  {
   "cell_type": "markdown",
   "id": "d4f6e004-f029-4da4-bf5e-d039246ad1e3",
   "metadata": {},
   "source": [
    "## Add Movie Metadata"
   ]
  },
  {
   "cell_type": "code",
   "execution_count": 4,
   "id": "7e5774ff-1b2a-4ab5-8abc-a12398564a83",
   "metadata": {},
   "outputs": [
    {
     "data": {
      "text/html": [
       "<div>\n",
       "<style scoped>\n",
       "    .dataframe tbody tr th:only-of-type {\n",
       "        vertical-align: middle;\n",
       "    }\n",
       "\n",
       "    .dataframe tbody tr th {\n",
       "        vertical-align: top;\n",
       "    }\n",
       "\n",
       "    .dataframe thead th {\n",
       "        text-align: right;\n",
       "    }\n",
       "</style>\n",
       "<table border=\"1\" class=\"dataframe\">\n",
       "  <thead>\n",
       "    <tr style=\"text-align: right;\">\n",
       "      <th></th>\n",
       "      <th>movie_id</th>\n",
       "      <th>genre_Adventure</th>\n",
       "      <th>genre_Fantasy</th>\n",
       "      <th>genre_Animation</th>\n",
       "      <th>genre_Drama</th>\n",
       "      <th>genre_Horror</th>\n",
       "      <th>genre_Action</th>\n",
       "      <th>genre_Comedy</th>\n",
       "      <th>genre_History</th>\n",
       "      <th>genre_Western</th>\n",
       "      <th>genre_Thriller</th>\n",
       "      <th>genre_Crime</th>\n",
       "      <th>genre_Documentary</th>\n",
       "      <th>genre_Science Fiction</th>\n",
       "      <th>genre_Mystery</th>\n",
       "      <th>genre_Music</th>\n",
       "      <th>genre_Romance</th>\n",
       "      <th>genre_Family</th>\n",
       "      <th>genre_War</th>\n",
       "      <th>genre_TV Movie</th>\n",
       "    </tr>\n",
       "  </thead>\n",
       "  <tbody>\n",
       "    <tr>\n",
       "      <th>0</th>\n",
       "      <td>2</td>\n",
       "      <td>0</td>\n",
       "      <td>0</td>\n",
       "      <td>0</td>\n",
       "      <td>1</td>\n",
       "      <td>0</td>\n",
       "      <td>0</td>\n",
       "      <td>1</td>\n",
       "      <td>0</td>\n",
       "      <td>0</td>\n",
       "      <td>0</td>\n",
       "      <td>1</td>\n",
       "      <td>0</td>\n",
       "      <td>0</td>\n",
       "      <td>0</td>\n",
       "      <td>0</td>\n",
       "      <td>1</td>\n",
       "      <td>0</td>\n",
       "      <td>0</td>\n",
       "      <td>0</td>\n",
       "    </tr>\n",
       "    <tr>\n",
       "      <th>1</th>\n",
       "      <td>3</td>\n",
       "      <td>0</td>\n",
       "      <td>0</td>\n",
       "      <td>0</td>\n",
       "      <td>1</td>\n",
       "      <td>0</td>\n",
       "      <td>0</td>\n",
       "      <td>1</td>\n",
       "      <td>0</td>\n",
       "      <td>0</td>\n",
       "      <td>0</td>\n",
       "      <td>0</td>\n",
       "      <td>0</td>\n",
       "      <td>0</td>\n",
       "      <td>0</td>\n",
       "      <td>0</td>\n",
       "      <td>1</td>\n",
       "      <td>0</td>\n",
       "      <td>0</td>\n",
       "      <td>0</td>\n",
       "    </tr>\n",
       "    <tr>\n",
       "      <th>2</th>\n",
       "      <td>5</td>\n",
       "      <td>0</td>\n",
       "      <td>0</td>\n",
       "      <td>0</td>\n",
       "      <td>0</td>\n",
       "      <td>0</td>\n",
       "      <td>0</td>\n",
       "      <td>1</td>\n",
       "      <td>0</td>\n",
       "      <td>0</td>\n",
       "      <td>0</td>\n",
       "      <td>1</td>\n",
       "      <td>0</td>\n",
       "      <td>0</td>\n",
       "      <td>0</td>\n",
       "      <td>0</td>\n",
       "      <td>0</td>\n",
       "      <td>0</td>\n",
       "      <td>0</td>\n",
       "      <td>0</td>\n",
       "    </tr>\n",
       "    <tr>\n",
       "      <th>3</th>\n",
       "      <td>6</td>\n",
       "      <td>0</td>\n",
       "      <td>0</td>\n",
       "      <td>0</td>\n",
       "      <td>0</td>\n",
       "      <td>0</td>\n",
       "      <td>1</td>\n",
       "      <td>0</td>\n",
       "      <td>0</td>\n",
       "      <td>0</td>\n",
       "      <td>1</td>\n",
       "      <td>1</td>\n",
       "      <td>0</td>\n",
       "      <td>0</td>\n",
       "      <td>0</td>\n",
       "      <td>0</td>\n",
       "      <td>0</td>\n",
       "      <td>0</td>\n",
       "      <td>0</td>\n",
       "      <td>0</td>\n",
       "    </tr>\n",
       "    <tr>\n",
       "      <th>4</th>\n",
       "      <td>8</td>\n",
       "      <td>0</td>\n",
       "      <td>0</td>\n",
       "      <td>0</td>\n",
       "      <td>0</td>\n",
       "      <td>0</td>\n",
       "      <td>0</td>\n",
       "      <td>0</td>\n",
       "      <td>0</td>\n",
       "      <td>0</td>\n",
       "      <td>0</td>\n",
       "      <td>0</td>\n",
       "      <td>1</td>\n",
       "      <td>0</td>\n",
       "      <td>0</td>\n",
       "      <td>0</td>\n",
       "      <td>0</td>\n",
       "      <td>0</td>\n",
       "      <td>0</td>\n",
       "      <td>0</td>\n",
       "    </tr>\n",
       "  </tbody>\n",
       "</table>\n",
       "</div>"
      ],
      "text/plain": [
       "   movie_id  genre_Adventure  genre_Fantasy  genre_Animation  genre_Drama  \\\n",
       "0         2                0              0                0            1   \n",
       "1         3                0              0                0            1   \n",
       "2         5                0              0                0            0   \n",
       "3         6                0              0                0            0   \n",
       "4         8                0              0                0            0   \n",
       "\n",
       "   genre_Horror  genre_Action  genre_Comedy  genre_History  genre_Western  \\\n",
       "0             0             0             1              0              0   \n",
       "1             0             0             1              0              0   \n",
       "2             0             0             1              0              0   \n",
       "3             0             1             0              0              0   \n",
       "4             0             0             0              0              0   \n",
       "\n",
       "   genre_Thriller  genre_Crime  genre_Documentary  genre_Science Fiction  \\\n",
       "0               0            1                  0                      0   \n",
       "1               0            0                  0                      0   \n",
       "2               0            1                  0                      0   \n",
       "3               1            1                  0                      0   \n",
       "4               0            0                  1                      0   \n",
       "\n",
       "   genre_Mystery  genre_Music  genre_Romance  genre_Family  genre_War  \\\n",
       "0              0            0              1             0          0   \n",
       "1              0            0              1             0          0   \n",
       "2              0            0              0             0          0   \n",
       "3              0            0              0             0          0   \n",
       "4              0            0              0             0          0   \n",
       "\n",
       "   genre_TV Movie  \n",
       "0               0  \n",
       "1               0  \n",
       "2               0  \n",
       "3               0  \n",
       "4               0  "
      ]
     },
     "execution_count": 4,
     "metadata": {},
     "output_type": "execute_result"
    }
   ],
   "source": [
    "movies = load_sql.fetch_one_hot_genres()\n",
    "movies.head()"
   ]
  },
  {
   "cell_type": "code",
   "execution_count": 5,
   "id": "da5a5b79-0c65-485e-8d43-7b4389a9d0eb",
   "metadata": {},
   "outputs": [],
   "source": [
    "# Convert one-hot genre encoding into a list of features per movie\n",
    "movies['features'] = movies.drop(columns=['movie_id']).apply(lambda x: list(x[x == 1].index), axis=1)\n",
    "\n",
    "# Fit dataset with movie features\n",
    "dataset.fit_partial(items=movies['movie_id'].unique(), item_features=movies['features'].explode().unique())\n",
    "\n",
    "# Build item features matrix\n",
    "item_features = dataset.build_item_features(zip(movies['movie_id'], movies['features']))"
   ]
  },
  {
   "cell_type": "markdown",
   "id": "f8dcddb7-8a9b-4780-bca6-eae2a31b86ae",
   "metadata": {},
   "source": [
    "## Train the LightFM Model"
   ]
  },
  {
   "cell_type": "code",
   "execution_count": 6,
   "id": "82474731-1212-42ac-ad4d-2b5cc2449995",
   "metadata": {},
   "outputs": [
    {
     "data": {
      "text/plain": [
       "<lightfm.lightfm.LightFM at 0x1453be970>"
      ]
     },
     "execution_count": 6,
     "metadata": {},
     "output_type": "execute_result"
    }
   ],
   "source": [
    "model = LightFM(loss='warp')  # 'warp' works well for implicit feedback\n",
    "model.fit(interactions, item_features=item_features, epochs=5, num_threads=4)"
   ]
  },
  {
   "cell_type": "markdown",
   "id": "a731842c-01e4-4167-a66f-7962b388f7cc",
   "metadata": {},
   "source": [
    "## Recommend!"
   ]
  },
  {
   "cell_type": "code",
   "execution_count": 7,
   "id": "cb4155dc-c61c-4f23-9440-8bf589043028",
   "metadata": {},
   "outputs": [],
   "source": [
    "def recommend_movies(model, user_id, dataset, item_features, n=10):\n",
    "    # Get item mapping (movie IDs to their index in the matrix)\n",
    "    movie_ids = list(dataset.mapping()[2].keys())\n",
    "    \n",
    "    # Ensure that movie_ids corresponds to the correct rows in item_features\n",
    "    movie_index_map = dataset.mapping()[2]  # This is the dictionary mapping movie IDs to the matrix index\n",
    "    \n",
    "    # Predict scores for each movie\n",
    "    scores = model.predict(user_id, np.array([movie_index_map[movie_id] for movie_id in movie_ids]), item_features=item_features)\n",
    "    \n",
    "    # Sort movies by score\n",
    "    top_movies = [movie_ids[i] for i in np.argsort(-scores)[:n]]\n",
    "\n",
    "    return top_movies"
   ]
  },
  {
   "cell_type": "code",
   "execution_count": 8,
   "id": "4b3e91ae-8e66-496a-a884-42f5c5bdf5bd",
   "metadata": {},
   "outputs": [
    {
     "data": {
      "text/plain": [
       "[13, 14, 568, 4584, 278, 424, 687, 489, 680, 289]"
      ]
     },
     "execution_count": 8,
     "metadata": {},
     "output_type": "execute_result"
    }
   ],
   "source": [
    "user_id = 1\n",
    "recommend_movies(model, user_id, dataset, item_features)"
   ]
  },
  {
   "cell_type": "markdown",
   "id": "c8e5f748-5091-4eda-845f-a4ae3dc9f659",
   "metadata": {},
   "source": [
    "### Examples"
   ]
  },
  {
   "cell_type": "code",
   "execution_count": 9,
   "id": "63d73ef9-0f01-4625-b2e0-e7eb7d9e3179",
   "metadata": {},
   "outputs": [
    {
     "name": "stdout",
     "output_type": "stream",
     "text": [
      "Forrest Gump (1994)\n",
      "American Beauty (1999)\n",
      "Apollo 13 (1995)\n",
      "Sense and Sensibility (1995)\n",
      "The Shawshank Redemption (1994)\n",
      "Schindler's List (1993)\n",
      "Dead Man Walking (1995)\n",
      "Good Will Hunting (1997)\n",
      "Pulp Fiction (1994)\n",
      "Casablanca (1943)\n"
     ]
    }
   ],
   "source": [
    "user_id = 1\n",
    "for mv in recommend_movies(model, user_id, dataset, item_features):\n",
    "    print(load_sql.fetch_movie_title(mv))"
   ]
  },
  {
   "cell_type": "code",
   "execution_count": 10,
   "id": "9db6eeb2-28ea-4b53-9e42-d8243347d248",
   "metadata": {},
   "outputs": [
    {
     "name": "stdout",
     "output_type": "stream",
     "text": [
      "The Matrix (1999)\n",
      "Star Wars (1977)\n",
      "Jurassic Park (1993)\n",
      "Forrest Gump (1994)\n",
      "Pulp Fiction (1994)\n",
      "The Empire Strikes Back (1980)\n",
      "Return of the Jedi (1983)\n",
      "Raiders of the Lost Ark (1981)\n",
      "Independence Day (1996)\n",
      "Back to the Future (1985)\n"
     ]
    }
   ],
   "source": [
    "user_id = 2\n",
    "for mv in recommend_movies(model, user_id, dataset, item_features):\n",
    "    print(load_sql.fetch_movie_title(mv))"
   ]
  },
  {
   "cell_type": "code",
   "execution_count": null,
   "id": "df82cebb-896c-49b3-a650-fa7f249c59ae",
   "metadata": {},
   "outputs": [],
   "source": []
  }
 ],
 "metadata": {
  "kernelspec": {
   "display_name": "Python 3 (ipykernel)",
   "language": "python",
   "name": "python3"
  },
  "language_info": {
   "codemirror_mode": {
    "name": "ipython",
    "version": 3
   },
   "file_extension": ".py",
   "mimetype": "text/x-python",
   "name": "python",
   "nbconvert_exporter": "python",
   "pygments_lexer": "ipython3",
   "version": "3.9.8"
  }
 },
 "nbformat": 4,
 "nbformat_minor": 5
}
