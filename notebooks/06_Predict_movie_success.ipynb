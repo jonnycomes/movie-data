{
 "cells": [
  {
   "cell_type": "code",
   "execution_count": 1,
   "id": "bccfb7ba-6c9c-4279-b575-6b61f9b153c0",
   "metadata": {},
   "outputs": [],
   "source": [
    "import pandas as pd\n",
    "import matplotlib.pyplot as plt\n",
    "import seaborn as sns\n",
    "import data_processing.load_sqlite as load_sql"
   ]
  },
  {
   "cell_type": "markdown",
   "id": "b2293f54-43e8-4c61-b10e-50a5182cffcd",
   "metadata": {},
   "source": [
    "## Predicting Success with Frequency Encoding"
   ]
  },
  {
   "cell_type": "code",
   "execution_count": 2,
   "id": "f882f840-6162-476c-b02c-753bcbe20fe3",
   "metadata": {},
   "outputs": [
    {
     "data": {
      "text/html": [
       "<div>\n",
       "<style scoped>\n",
       "    .dataframe tbody tr th:only-of-type {\n",
       "        vertical-align: middle;\n",
       "    }\n",
       "\n",
       "    .dataframe tbody tr th {\n",
       "        vertical-align: top;\n",
       "    }\n",
       "\n",
       "    .dataframe thead th {\n",
       "        text-align: right;\n",
       "    }\n",
       "</style>\n",
       "<table border=\"1\" class=\"dataframe\">\n",
       "  <thead>\n",
       "    <tr style=\"text-align: right;\">\n",
       "      <th></th>\n",
       "      <th>movie_id</th>\n",
       "      <th>vote_average</th>\n",
       "      <th>title</th>\n",
       "      <th>release_date</th>\n",
       "      <th>runtime</th>\n",
       "      <th>top_5_cast_ids</th>\n",
       "      <th>num_cast_members</th>\n",
       "      <th>director_ids</th>\n",
       "      <th>writer_ids</th>\n",
       "      <th>company_ids</th>\n",
       "      <th>genre_ids</th>\n",
       "    </tr>\n",
       "  </thead>\n",
       "  <tbody>\n",
       "    <tr>\n",
       "      <th>0</th>\n",
       "      <td>2</td>\n",
       "      <td>7.113</td>\n",
       "      <td>Ariel</td>\n",
       "      <td>1988-10-21</td>\n",
       "      <td>73</td>\n",
       "      <td>None</td>\n",
       "      <td>0</td>\n",
       "      <td>None</td>\n",
       "      <td>None</td>\n",
       "      <td>2303</td>\n",
       "      <td>18,35,80,10749</td>\n",
       "    </tr>\n",
       "    <tr>\n",
       "      <th>1</th>\n",
       "      <td>3</td>\n",
       "      <td>7.300</td>\n",
       "      <td>Shadows in Paradise</td>\n",
       "      <td>1986-10-17</td>\n",
       "      <td>74</td>\n",
       "      <td>None</td>\n",
       "      <td>0</td>\n",
       "      <td>None</td>\n",
       "      <td>None</td>\n",
       "      <td>2303</td>\n",
       "      <td>18,35,10749</td>\n",
       "    </tr>\n",
       "    <tr>\n",
       "      <th>2</th>\n",
       "      <td>5</td>\n",
       "      <td>5.858</td>\n",
       "      <td>Four Rooms</td>\n",
       "      <td>1995-12-09</td>\n",
       "      <td>98</td>\n",
       "      <td>3129,3130,3131,3124,2555</td>\n",
       "      <td>28</td>\n",
       "      <td>138,2294,3110,3111</td>\n",
       "      <td>138,2294,3110,3111</td>\n",
       "      <td>14,59</td>\n",
       "      <td>35,80</td>\n",
       "    </tr>\n",
       "    <tr>\n",
       "      <th>3</th>\n",
       "      <td>6</td>\n",
       "      <td>6.500</td>\n",
       "      <td>Judgment Night</td>\n",
       "      <td>1993-10-15</td>\n",
       "      <td>109</td>\n",
       "      <td>2880,9777,5724,10822,12799</td>\n",
       "      <td>31</td>\n",
       "      <td>2042</td>\n",
       "      <td>52035,52035,1088307</td>\n",
       "      <td>33,182,1644</td>\n",
       "      <td>28,53,80</td>\n",
       "    </tr>\n",
       "    <tr>\n",
       "      <th>4</th>\n",
       "      <td>11</td>\n",
       "      <td>8.200</td>\n",
       "      <td>Star Wars</td>\n",
       "      <td>1977-05-25</td>\n",
       "      <td>121</td>\n",
       "      <td>2,3,4,5,12248</td>\n",
       "      <td>104</td>\n",
       "      <td>1</td>\n",
       "      <td>1</td>\n",
       "      <td>1,25</td>\n",
       "      <td>12,28,878</td>\n",
       "    </tr>\n",
       "  </tbody>\n",
       "</table>\n",
       "</div>"
      ],
      "text/plain": [
       "   movie_id  vote_average                title release_date  runtime  \\\n",
       "0         2         7.113                Ariel   1988-10-21       73   \n",
       "1         3         7.300  Shadows in Paradise   1986-10-17       74   \n",
       "2         5         5.858           Four Rooms   1995-12-09       98   \n",
       "3         6         6.500       Judgment Night   1993-10-15      109   \n",
       "4        11         8.200            Star Wars   1977-05-25      121   \n",
       "\n",
       "               top_5_cast_ids  num_cast_members        director_ids  \\\n",
       "0                        None                 0                None   \n",
       "1                        None                 0                None   \n",
       "2    3129,3130,3131,3124,2555                28  138,2294,3110,3111   \n",
       "3  2880,9777,5724,10822,12799                31                2042   \n",
       "4               2,3,4,5,12248               104                   1   \n",
       "\n",
       "            writer_ids  company_ids       genre_ids  \n",
       "0                 None         2303  18,35,80,10749  \n",
       "1                 None         2303     18,35,10749  \n",
       "2   138,2294,3110,3111        14,59           35,80  \n",
       "3  52035,52035,1088307  33,182,1644        28,53,80  \n",
       "4                    1         1,25       12,28,878  "
      ]
     },
     "execution_count": 2,
     "metadata": {},
     "output_type": "execute_result"
    }
   ],
   "source": [
    "df = load_sql.fetch_movie_rating_features()\n",
    "df.head()"
   ]
  },
  {
   "cell_type": "code",
   "execution_count": 3,
   "id": "5cc57109-85ba-4d89-ba98-89fdb43e201b",
   "metadata": {},
   "outputs": [
    {
     "name": "stdout",
     "output_type": "stream",
     "text": [
      "<class 'pandas.core.frame.DataFrame'>\n",
      "Index: 26204 entries, 2 to 44520\n",
      "Data columns (total 11 columns):\n",
      " #   Column            Non-Null Count  Dtype  \n",
      "---  ------            --------------  -----  \n",
      " 0   movie_id          26204 non-null  int64  \n",
      " 1   vote_average      26204 non-null  float64\n",
      " 2   title             26204 non-null  object \n",
      " 3   release_date      26204 non-null  object \n",
      " 4   runtime           26204 non-null  int64  \n",
      " 5   top_5_cast_ids    26204 non-null  object \n",
      " 6   num_cast_members  26204 non-null  int64  \n",
      " 7   director_ids      26204 non-null  object \n",
      " 8   writer_ids        26204 non-null  object \n",
      " 9   company_ids       26204 non-null  object \n",
      " 10  genre_ids         26204 non-null  object \n",
      "dtypes: float64(1), int64(3), object(7)\n",
      "memory usage: 2.4+ MB\n"
     ]
    }
   ],
   "source": [
    "df = df.dropna()\n",
    "df.info()"
   ]
  },
  {
   "cell_type": "code",
   "execution_count": 4,
   "id": "b752dc14-195e-4c0c-af92-10cae83d8ba0",
   "metadata": {},
   "outputs": [],
   "source": [
    "df['release_date'] = pd.to_datetime(df['release_date'])\n",
    "df['release_date'] = df['release_date'].astype(int) / 10**9  # Unix timestamp in seconds"
   ]
  },
  {
   "cell_type": "code",
   "execution_count": 6,
   "id": "33616f51-d1e9-413e-a93a-ab63ce47ef39",
   "metadata": {},
   "outputs": [
    {
     "data": {
      "text/plain": [
       "Index(['movie_id', 'vote_average', 'title', 'release_date', 'runtime',\n",
       "       'top_5_cast_ids', 'num_cast_members', 'director_ids', 'writer_ids',\n",
       "       'company_ids', 'genre_ids', 'successful'],\n",
       "      dtype='object')"
      ]
     },
     "execution_count": 6,
     "metadata": {},
     "output_type": "execute_result"
    }
   ],
   "source": [
    "df[\"successful\"] = (df[\"vote_average\"] > 7.0).astype(int) \n",
    "df.columns"
   ]
  },
  {
   "cell_type": "code",
   "execution_count": 8,
   "id": "583065c9-3fd4-4e1f-a227-7466f23a90d2",
   "metadata": {},
   "outputs": [
    {
     "data": {
      "text/plain": [
       "successful          1.000000\n",
       "vote_average        0.643150\n",
       "runtime             0.157104\n",
       "num_cast_members    0.100434\n",
       "movie_id            0.037698\n",
       "release_date       -0.000986\n",
       "Name: successful, dtype: float64"
      ]
     },
     "execution_count": 8,
     "metadata": {},
     "output_type": "execute_result"
    }
   ],
   "source": [
    "df.corr(numeric_only=True)[\"successful\"].sort_values(ascending=False)"
   ]
  },
  {
   "cell_type": "code",
   "execution_count": 9,
   "id": "fa7f159c-22e9-47c2-b32b-b3d99c857cc8",
   "metadata": {},
   "outputs": [
    {
     "data": {
      "text/plain": [
       "Index(['movie_id', 'vote_average', 'title', 'release_date', 'runtime',\n",
       "       'top_5_cast_ids', 'num_cast_members', 'director_ids', 'writer_ids',\n",
       "       'company_ids', 'genre_ids', 'successful'],\n",
       "      dtype='object')"
      ]
     },
     "execution_count": 9,
     "metadata": {},
     "output_type": "execute_result"
    }
   ],
   "source": [
    "from sklearn.model_selection import train_test_split\n",
    "\n",
    "# Split the dataset first\n",
    "train_df, test_df = train_test_split(df, test_size=0.2, random_state=42)\n",
    "\n",
    "train_df.columns"
   ]
  },
  {
   "cell_type": "code",
   "execution_count": 10,
   "id": "f484281b-fd19-4027-9aac-f145356f218f",
   "metadata": {},
   "outputs": [
    {
     "data": {
      "text/plain": [
       "successful             1.000000\n",
       "vote_average           0.643328\n",
       "runtime                0.163982\n",
       "num_cast_members       0.095581\n",
       "top_5_cast_ids_freq    0.050896\n",
       "director_ids_freq      0.048338\n",
       "movie_id               0.032802\n",
       "writer_ids_freq        0.032210\n",
       "company_ids_freq       0.006549\n",
       "release_date           0.000718\n",
       "Name: successful, dtype: float64"
      ]
     },
     "execution_count": 10,
     "metadata": {},
     "output_type": "execute_result"
    }
   ],
   "source": [
    "categorical_cols = ['company_ids', 'top_5_cast_ids', 'director_ids', 'writer_ids']\n",
    "\n",
    "for col in categorical_cols:\n",
    "    # Compute frequencies in training data\n",
    "    freq_map = train_df[col].value_counts().to_dict()\n",
    "    \n",
    "    # Map frequencies in both training and test sets\n",
    "    train_df[col + '_freq'] = train_df[col].map(freq_map)\n",
    "    test_df[col + '_freq'] = test_df[col].map(freq_map)\n",
    "\n",
    "    # Fill missing values with a default frequency (e.g., 1)\n",
    "    train_df[col + '_freq'] = train_df[col + '_freq'].fillna(1)\n",
    "    test_df[col + '_freq'] = test_df[col + '_freq'].fillna(1)\n",
    "\n",
    "train_df.corr(numeric_only=True)[\"successful\"].sort_values(ascending=False)"
   ]
  },
  {
   "cell_type": "code",
   "execution_count": 11,
   "id": "f3d8ac31-184a-4a52-92b2-491d6519585b",
   "metadata": {},
   "outputs": [
    {
     "name": "stdout",
     "output_type": "stream",
     "text": [
      "Index(['movie_id', 'vote_average', 'title', 'release_date', 'runtime',\n",
      "       'top_5_cast_ids', 'num_cast_members', 'director_ids', 'writer_ids',\n",
      "       'company_ids', 'successful', 'company_ids_freq', 'top_5_cast_ids_freq',\n",
      "       'director_ids_freq', 'writer_ids_freq', 'genre_10402', 'genre_10749',\n",
      "       'genre_10751', 'genre_10752', 'genre_10770', 'genre_12', 'genre_14',\n",
      "       'genre_16', 'genre_18', 'genre_27', 'genre_28', 'genre_35', 'genre_36',\n",
      "       'genre_37', 'genre_53', 'genre_80', 'genre_878', 'genre_9648',\n",
      "       'genre_99'],\n",
      "      dtype='object')\n",
      "Index(['movie_id', 'vote_average', 'title', 'release_date', 'runtime',\n",
      "       'top_5_cast_ids', 'num_cast_members', 'director_ids', 'writer_ids',\n",
      "       'company_ids', 'successful', 'company_ids_freq', 'top_5_cast_ids_freq',\n",
      "       'director_ids_freq', 'writer_ids_freq', 'genre_10402', 'genre_10749',\n",
      "       'genre_10751', 'genre_10752', 'genre_10770', 'genre_12', 'genre_14',\n",
      "       'genre_16', 'genre_18', 'genre_27', 'genre_28', 'genre_35', 'genre_36',\n",
      "       'genre_37', 'genre_53', 'genre_80', 'genre_878', 'genre_9648',\n",
      "       'genre_99'],\n",
      "      dtype='object')\n"
     ]
    }
   ],
   "source": [
    "def one_hot_encode_genres(df):\n",
    "    \"\"\"One-hot encodes the genre_ids column.\"\"\"\n",
    "    # Convert genre_ids to lists\n",
    "    df[\"genre_ids\"] = df[\"genre_ids\"].apply(lambda x: x.split(','))\n",
    "    \n",
    "    # Extract unique genre IDs\n",
    "    all_genres = sorted(set(genre for genres in df[\"genre_ids\"] for genre in genres))\n",
    "\n",
    "    # Create one-hot encoded columns\n",
    "    for genre in all_genres:\n",
    "        df[f\"genre_{genre}\"] = df[\"genre_ids\"].apply(lambda x: int(genre in x))\n",
    "\n",
    "    # Drop original genre_ids column\n",
    "    df.drop(columns=[\"genre_ids\"], inplace=True)\n",
    "    return df\n",
    "\n",
    "# Apply to both train and test sets\n",
    "train_df = one_hot_encode_genres(train_df)\n",
    "test_df = one_hot_encode_genres(test_df)\n",
    "\n",
    "print(train_df.columns)\n",
    "print(test_df.columns)"
   ]
  },
  {
   "cell_type": "code",
   "execution_count": 12,
   "id": "80eb793f-6a30-46d4-a613-4ea694e25e4c",
   "metadata": {},
   "outputs": [],
   "source": [
    "# Select features to keep (numeric columns)\n",
    "features_to_keep = train_df.select_dtypes(include=[\"float64\", \"int64\"]).columns\n",
    "\n",
    "# Prepare the training and test data\n",
    "X_train = train_df[features_to_keep].drop(columns=[\"vote_average\", \"successful\"])\n",
    "y_train = train_df[\"successful\"]\n",
    "X_test = test_df[features_to_keep].drop(columns=[\"vote_average\", \"successful\"])\n",
    "y_test = test_df[\"successful\"]"
   ]
  },
  {
   "cell_type": "code",
   "execution_count": 13,
   "id": "1183f31c-0e8f-4462-b975-45dddc83a025",
   "metadata": {},
   "outputs": [
    {
     "name": "stdout",
     "output_type": "stream",
     "text": [
      "Training score: 0.9997137814244145\n",
      "Testing score: 0.8227437511925205\n"
     ]
    }
   ],
   "source": [
    "from sklearn.ensemble import RandomForestClassifier\n",
    "\n",
    "# Define and train the classifier\n",
    "rf = RandomForestClassifier(n_estimators=50, random_state=42)\n",
    "rf.fit(X_train, y_train)\n",
    "\n",
    "# Evaluate the model\n",
    "print(\"Training score:\", rf.score(X_train, y_train))\n",
    "print(\"Testing score:\", rf.score(X_test, y_test))"
   ]
  },
  {
   "cell_type": "markdown",
   "id": "3144745b-1d19-4def-8166-f992dd881ce0",
   "metadata": {},
   "source": [
    "## Predict Success using Categorical Scores"
   ]
  },
  {
   "cell_type": "code",
   "execution_count": 2,
   "id": "86e008c1-60e6-4803-92ce-746adc5e6d7b",
   "metadata": {},
   "outputs": [
    {
     "data": {
      "text/html": [
       "<div>\n",
       "<style scoped>\n",
       "    .dataframe tbody tr th:only-of-type {\n",
       "        vertical-align: middle;\n",
       "    }\n",
       "\n",
       "    .dataframe tbody tr th {\n",
       "        vertical-align: top;\n",
       "    }\n",
       "\n",
       "    .dataframe thead th {\n",
       "        text-align: right;\n",
       "    }\n",
       "</style>\n",
       "<table border=\"1\" class=\"dataframe\">\n",
       "  <thead>\n",
       "    <tr style=\"text-align: right;\">\n",
       "      <th></th>\n",
       "      <th>movie_id</th>\n",
       "      <th>vote_average</th>\n",
       "      <th>runtime</th>\n",
       "      <th>num_cast_members</th>\n",
       "      <th>release_date</th>\n",
       "      <th>Adventure</th>\n",
       "      <th>Fantasy</th>\n",
       "      <th>Animation</th>\n",
       "      <th>Drama</th>\n",
       "      <th>Horror</th>\n",
       "      <th>...</th>\n",
       "      <th>Music</th>\n",
       "      <th>Romance</th>\n",
       "      <th>Family</th>\n",
       "      <th>War</th>\n",
       "      <th>TV Movie</th>\n",
       "      <th>director_score</th>\n",
       "      <th>writer_score</th>\n",
       "      <th>cast_score</th>\n",
       "      <th>production_company_score</th>\n",
       "      <th>successful</th>\n",
       "    </tr>\n",
       "  </thead>\n",
       "  <tbody>\n",
       "    <tr>\n",
       "      <th>0</th>\n",
       "      <td>2</td>\n",
       "      <td>7.113</td>\n",
       "      <td>73</td>\n",
       "      <td>0</td>\n",
       "      <td>593395200.0</td>\n",
       "      <td>0</td>\n",
       "      <td>0</td>\n",
       "      <td>0</td>\n",
       "      <td>1</td>\n",
       "      <td>0</td>\n",
       "      <td>...</td>\n",
       "      <td>0</td>\n",
       "      <td>1</td>\n",
       "      <td>0</td>\n",
       "      <td>0</td>\n",
       "      <td>0</td>\n",
       "      <td>6.292833</td>\n",
       "      <td>6.292833</td>\n",
       "      <td>6.292833</td>\n",
       "      <td>6.687600</td>\n",
       "      <td>1</td>\n",
       "    </tr>\n",
       "    <tr>\n",
       "      <th>1</th>\n",
       "      <td>3</td>\n",
       "      <td>7.300</td>\n",
       "      <td>74</td>\n",
       "      <td>0</td>\n",
       "      <td>529891200.0</td>\n",
       "      <td>0</td>\n",
       "      <td>0</td>\n",
       "      <td>0</td>\n",
       "      <td>1</td>\n",
       "      <td>0</td>\n",
       "      <td>...</td>\n",
       "      <td>0</td>\n",
       "      <td>1</td>\n",
       "      <td>0</td>\n",
       "      <td>0</td>\n",
       "      <td>0</td>\n",
       "      <td>6.292833</td>\n",
       "      <td>6.292833</td>\n",
       "      <td>6.292833</td>\n",
       "      <td>6.512667</td>\n",
       "      <td>1</td>\n",
       "    </tr>\n",
       "    <tr>\n",
       "      <th>2</th>\n",
       "      <td>5</td>\n",
       "      <td>5.858</td>\n",
       "      <td>98</td>\n",
       "      <td>28</td>\n",
       "      <td>818467200.0</td>\n",
       "      <td>0</td>\n",
       "      <td>0</td>\n",
       "      <td>0</td>\n",
       "      <td>0</td>\n",
       "      <td>0</td>\n",
       "      <td>...</td>\n",
       "      <td>0</td>\n",
       "      <td>0</td>\n",
       "      <td>0</td>\n",
       "      <td>0</td>\n",
       "      <td>0</td>\n",
       "      <td>7.333995</td>\n",
       "      <td>7.355491</td>\n",
       "      <td>6.648418</td>\n",
       "      <td>6.302417</td>\n",
       "      <td>0</td>\n",
       "    </tr>\n",
       "    <tr>\n",
       "      <th>3</th>\n",
       "      <td>6</td>\n",
       "      <td>6.500</td>\n",
       "      <td>109</td>\n",
       "      <td>31</td>\n",
       "      <td>750643200.0</td>\n",
       "      <td>0</td>\n",
       "      <td>0</td>\n",
       "      <td>0</td>\n",
       "      <td>0</td>\n",
       "      <td>0</td>\n",
       "      <td>...</td>\n",
       "      <td>0</td>\n",
       "      <td>0</td>\n",
       "      <td>0</td>\n",
       "      <td>0</td>\n",
       "      <td>0</td>\n",
       "      <td>5.882887</td>\n",
       "      <td>6.119896</td>\n",
       "      <td>6.370170</td>\n",
       "      <td>6.376285</td>\n",
       "      <td>0</td>\n",
       "    </tr>\n",
       "    <tr>\n",
       "      <th>4</th>\n",
       "      <td>11</td>\n",
       "      <td>8.200</td>\n",
       "      <td>121</td>\n",
       "      <td>104</td>\n",
       "      <td>233366400.0</td>\n",
       "      <td>1</td>\n",
       "      <td>0</td>\n",
       "      <td>0</td>\n",
       "      <td>0</td>\n",
       "      <td>0</td>\n",
       "      <td>...</td>\n",
       "      <td>0</td>\n",
       "      <td>0</td>\n",
       "      <td>0</td>\n",
       "      <td>0</td>\n",
       "      <td>0</td>\n",
       "      <td>6.782933</td>\n",
       "      <td>6.676182</td>\n",
       "      <td>6.170755</td>\n",
       "      <td>6.623217</td>\n",
       "      <td>1</td>\n",
       "    </tr>\n",
       "  </tbody>\n",
       "</table>\n",
       "<p>5 rows × 29 columns</p>\n",
       "</div>"
      ],
      "text/plain": [
       "   movie_id  vote_average  runtime  num_cast_members  release_date  Adventure  \\\n",
       "0         2         7.113       73                 0   593395200.0          0   \n",
       "1         3         7.300       74                 0   529891200.0          0   \n",
       "2         5         5.858       98                28   818467200.0          0   \n",
       "3         6         6.500      109                31   750643200.0          0   \n",
       "4        11         8.200      121               104   233366400.0          1   \n",
       "\n",
       "   Fantasy  Animation  Drama  Horror  ...  Music  Romance  Family  War  \\\n",
       "0        0          0      1       0  ...      0        1       0    0   \n",
       "1        0          0      1       0  ...      0        1       0    0   \n",
       "2        0          0      0       0  ...      0        0       0    0   \n",
       "3        0          0      0       0  ...      0        0       0    0   \n",
       "4        0          0      0       0  ...      0        0       0    0   \n",
       "\n",
       "   TV Movie  director_score  writer_score  cast_score  \\\n",
       "0         0        6.292833      6.292833    6.292833   \n",
       "1         0        6.292833      6.292833    6.292833   \n",
       "2         0        7.333995      7.355491    6.648418   \n",
       "3         0        5.882887      6.119896    6.370170   \n",
       "4         0        6.782933      6.676182    6.170755   \n",
       "\n",
       "   production_company_score  successful  \n",
       "0                  6.687600           1  \n",
       "1                  6.512667           1  \n",
       "2                  6.302417           0  \n",
       "3                  6.376285           0  \n",
       "4                  6.623217           1  \n",
       "\n",
       "[5 rows x 29 columns]"
      ]
     },
     "execution_count": 2,
     "metadata": {},
     "output_type": "execute_result"
    }
   ],
   "source": [
    "lambda_director   = 0.000408\n",
    "lambda_writers    = 0.000377\n",
    "lambda_cast_time  = 0.000592\n",
    "lambda_cast_order = 0.122\n",
    "\n",
    "df = load_sql.fetch_predict_success_data(lambda_director, lambda_writers, lambda_cast_time, lambda_cast_order)\n",
    "df.head()"
   ]
  },
  {
   "cell_type": "code",
   "execution_count": 4,
   "id": "65332292-bb2c-48de-aab5-4626e1822898",
   "metadata": {},
   "outputs": [],
   "source": [
    "from sklearn.model_selection import train_test_split\n",
    "\n",
    "train_df, test_df = train_test_split(df, test_size=0.2, random_state=42)"
   ]
  },
  {
   "cell_type": "code",
   "execution_count": 5,
   "id": "26b7ea33-0a50-411d-ad90-14c9879f9d3f",
   "metadata": {},
   "outputs": [],
   "source": [
    "# Define features\n",
    "X_train = train_df.drop(columns=['vote_average', 'movie_id', 'successful'])\n",
    "X_test = test_df.drop(columns=['vote_average', 'movie_id', 'successful'])\n",
    "\n",
    "# Define target\n",
    "y_train = train_df['successful']\n",
    "y_test = test_df['successful']"
   ]
  },
  {
   "cell_type": "code",
   "execution_count": 12,
   "id": "ddf260bf-0dc2-4224-aaf2-078311ce7549",
   "metadata": {},
   "outputs": [
    {
     "name": "stdout",
     "output_type": "stream",
     "text": [
      "Training score: 0.9996630822360109\n",
      "Testing score: 0.815272318921954\n"
     ]
    }
   ],
   "source": [
    "from sklearn.ensemble import RandomForestClassifier\n",
    "\n",
    "# Define and train the classifier\n",
    "rf = RandomForestClassifier(n_estimators=50, random_state=42)\n",
    "rf.fit(X_train, y_train)\n",
    "\n",
    "# Evaluate the model\n",
    "print(\"Training score:\", rf.score(X_train, y_train))\n",
    "print(\"Testing score:\", rf.score(X_test, y_test))"
   ]
  },
  {
   "cell_type": "code",
   "execution_count": 15,
   "id": "76481d33-4c66-4283-a64f-c768d8a2a952",
   "metadata": {},
   "outputs": [
    {
     "name": "stdout",
     "output_type": "stream",
     "text": [
      "0.8139090883566836\n",
      "0.8096574957888827\n"
     ]
    }
   ],
   "source": [
    "from sklearn.ensemble import GradientBoostingClassifier\n",
    "\n",
    "gb = GradientBoostingClassifier(n_estimators=50, random_state=42)\n",
    "gb.fit(X_train, y_train)\n",
    "\n",
    "print(gb.score(X_train, y_train))\n",
    "print(gb.score(X_test, y_test))"
   ]
  },
  {
   "cell_type": "code",
   "execution_count": null,
   "id": "6ef403f5-1c8c-4fef-8c73-f9ef1ad558fc",
   "metadata": {},
   "outputs": [],
   "source": []
  }
 ],
 "metadata": {
  "kernelspec": {
   "display_name": "Python 3 (ipykernel)",
   "language": "python",
   "name": "python3"
  },
  "language_info": {
   "codemirror_mode": {
    "name": "ipython",
    "version": 3
   },
   "file_extension": ".py",
   "mimetype": "text/x-python",
   "name": "python",
   "nbconvert_exporter": "python",
   "pygments_lexer": "ipython3",
   "version": "3.9.8"
  }
 },
 "nbformat": 4,
 "nbformat_minor": 5
}
