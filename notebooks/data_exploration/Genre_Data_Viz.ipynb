{
 "cells": [
  {
   "cell_type": "code",
   "execution_count": null,
   "id": "71480447-a96e-4b5d-808f-a3d30eaa1964",
   "metadata": {},
   "outputs": [],
   "source": []
  }
 ],
 "metadata": {
  "kernelspec": {
   "display_name": "",
   "name": ""
  },
  "language_info": {
   "name": ""
  }
 },
 "nbformat": 4,
 "nbformat_minor": 5
}
